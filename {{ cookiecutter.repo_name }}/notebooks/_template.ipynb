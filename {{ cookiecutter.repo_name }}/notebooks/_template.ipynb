{
 "cells": [
  {
   "attachments": {},
   "cell_type": "markdown",
   "metadata": {
    "collapsed": false
   },
   "source": [
    "# { Title }\n",
    "\n",
    "{ Describe the purpose of the notebook. }\n",
    "\n",
    "## Methodology\n",
    "\n",
    "{ Describe assumptions and processing steps. }\n",
    "\n",
    "## Table of Contents\n",
    "### [Setup](#setup)\n",
    "**[Library import](#lib_import)**\n",
    "\n",
    "**[Local library import](#loc_lib_import)**\n",
    "\n",
    "**[Utils](#utils)**\n",
    "\n",
    "### [{ Section }](#section_1)\n",
    "### [{ Section }](#section_2)\n",
    "### [Conclusion](#conclusion)\n",
    "\n"
   ]
  },
  {
   "attachments": {},
   "cell_type": "markdown",
   "metadata": {},
   "source": [
    "<a id='setup'></a>\n",
    "## Setup\n",
    "<a id='lib_import'></a>\n",
    "### Library import\n",
    "{ Import all the required Python libraries. }"
   ]
  },
  {
   "cell_type": "code",
   "execution_count": null,
   "metadata": {
    "collapsed": false
   },
   "outputs": [],
   "source": [
    "# imports\n",
    "from pathlib import Path  # noqa\n",
    "\n",
    "import numpy as np  # noqa"
   ]
  },
  {
   "attachments": {},
   "cell_type": "markdown",
   "metadata": {},
   "source": [
    "<a id='loc_lib_import'></a>\n",
    "### Local library import\n",
    "{ Import all the required local libraries. }"
   ]
  },
  {
   "cell_type": "code",
   "execution_count": null,
   "metadata": {},
   "outputs": [],
   "source": [
    "# Include local library paths\n",
    "import sys\n",
    "sys.path.append(\"../src/\")\n",
    "\n",
    "# Import local libraries\n",
    "from utils.data import VectorData"
   ]
  },
  {
   "attachments": {},
   "cell_type": "markdown",
   "metadata": {},
   "source": [
    "<a id='utils'></a>\n",
    "### Utils\n",
    "{ Make a section of util functions if need it. }"
   ]
  },
  {
   "cell_type": "code",
   "execution_count": null,
   "metadata": {},
   "outputs": [],
   "source": []
  },
  {
   "attachments": {},
   "cell_type": "markdown",
   "metadata": {
    "collapsed": false
   },
   "source": [
    "<a id='section_1'></a>\n",
    "## { Section }\n",
    "\n",
    "{ Problem breakdown and code }\n"
   ]
  },
  {
   "cell_type": "code",
   "execution_count": null,
   "metadata": {
    "collapsed": false
   },
   "outputs": [],
   "source": []
  },
  {
   "attachments": {},
   "cell_type": "markdown",
   "metadata": {
    "collapsed": false
   },
   "source": [
    "<a id='section_2'></a>\n",
    "## { Section }\n",
    "\n",
    "{ Problem breakdown and code }\n"
   ]
  },
  {
   "cell_type": "code",
   "execution_count": null,
   "metadata": {
    "collapsed": false
   },
   "outputs": [],
   "source": []
  },
  {
   "attachments": {},
   "cell_type": "markdown",
   "metadata": {
    "collapsed": false
   },
   "source": [
    "<a id='conclusion'></a>\n",
    "## Conclusion\n",
    "\n",
    "{ Summarize findings and next steps. }\n"
   ]
  },
  {
   "cell_type": "markdown",
   "metadata": {},
   "source": []
  }
 ],
 "metadata": {
  "kernelspec": {
   "display_name": "Python 3",
   "language": "python",
   "name": "python3"
  },
  "language_info": {
   "codemirror_mode": {
    "name": "ipython",
    "version": 2
   },
   "file_extension": ".py",
   "mimetype": "text/x-python",
   "name": "python",
   "nbconvert_exporter": "python",
   "pygments_lexer": "ipython2",
   "version": "2.7.6"
  }
 },
 "nbformat": 4,
 "nbformat_minor": 0
}
